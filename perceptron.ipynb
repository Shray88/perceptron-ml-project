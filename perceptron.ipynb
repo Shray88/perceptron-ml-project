{
  "nbformat": 4,
  "nbformat_minor": 0,
  "metadata": {
    "colab": {
      "provenance": []
    },
    "kernelspec": {
      "name": "python3",
      "display_name": "Python 3"
    },
    "language_info": {
      "name": "python"
    }
  },
  "cells": [
    {
      "cell_type": "markdown",
      "source": [
        "#Importing the Required Libraries.(**Numpy** and **Matplotlib**(for visualization))"
      ],
      "metadata": {
        "id": "NVPaKevOapsM"
      }
    },
    {
      "cell_type": "code",
      "execution_count": null,
      "metadata": {
        "id": "4VjwxNJL3OHY"
      },
      "outputs": [],
      "source": [
        "\n",
        "import numpy as np\n",
        "import matplotlib.pyplot as plt"
      ]
    },
    {
      "cell_type": "markdown",
      "source": [
        "##Defining the functions\n",
        "So, Our Data will be as follows:\n",
        "> [how much the student slept, how much the student studied]\n",
        "\n",
        "The data will be a numpy array which we will create on our own because for this project our main focus is not on building the data.\n",
        "\n",
        "And Our **Y_true** data is the the correct answer of the particular row.\n"
      ],
      "metadata": {
        "id": "FA1NTgVj32b2"
      }
    },
    {
      "cell_type": "code",
      "source": [
        "x_data = np.array([[0.1,0.9],\n",
        "                [0.3,0.6],\n",
        "                [0.7,0.3],\n",
        "                [0.8,0.2],\n",
        "                [0.6,0.4],\n",
        "                [0.2,0.8]])\n",
        "print(f\"Our Data is: {x_data}\")\n",
        "print(f\"\\n Dimension of our data: {x_data.ndim}\")\n",
        "print(f\"Shape of our data: {x_data.shape} \\n\")\n",
        "\n",
        "y_true = np.array([1,1,0,0,0,1])\n",
        "print(f\"Our True Answers of the data: {y_true}\")\n",
        "print(f\"\\n Dimension of True answers: {y_true.ndim}\")\n",
        "print(f\"Shape of our True Answers: {y_true.shape}\")"
      ],
      "metadata": {
        "colab": {
          "base_uri": "https://localhost:8080/"
        },
        "id": "siJ0qx293cDk",
        "outputId": "190bb799-e842-491b-f42d-8b18cdd7449f"
      },
      "execution_count": null,
      "outputs": [
        {
          "output_type": "stream",
          "name": "stdout",
          "text": [
            "Our Data is: [[0.1 0.9]\n",
            " [0.3 0.6]\n",
            " [0.7 0.3]\n",
            " [0.8 0.2]\n",
            " [0.6 0.4]\n",
            " [0.2 0.8]]\n",
            "\n",
            " Dimension of our data: 2\n",
            "Shape of our data: (6, 2) \n",
            "\n",
            "Our True Answers of the data: [1 1 0 0 0 1]\n",
            "\n",
            " Dimension of True answers: 1\n",
            "Shape of our True Answers: (6,)\n"
          ]
        }
      ]
    },
    {
      "cell_type": "markdown",
      "source": [
        "###Now we are gonna code the Class named \"**Perceptron**\".\n",
        "This class implements a simple **Perceptron**.\n",
        "\n",
        "- **`__init__`**: Initializes the perceptron with weights (starting as all ones), a bias of zero, and a learning rate (how fast the model learns).\n",
        "- **`activation`**: A step function that outputs 1 if input is greater than or equal to zero, otherwise 0.\n",
        "- **`predict`**: Takes input features, calculates a weighted sum plus bias, and then passes it through the activation function to get the prediction (0 or 1).\n",
        "- **`train`**: Loops over the training data multiple times (epochs). For each example:\n",
        "  - Predicts the output,\n",
        "  - Calculates the error (difference between true label and prediction),\n",
        "  - Updates the weights and bias to reduce the error,\n",
        "  - Prints the current state so you can watch the learning progress.\n"
      ],
      "metadata": {
        "id": "Gnaf9jZY6JOP"
      }
    },
    {
      "cell_type": "code",
      "source": [
        "class perceptron:\n",
        "  def __init__(self,input_size,learning_rate=0.01):\n",
        "    self.weights = np.ones(input_size)\n",
        "    self.bias = 0\n",
        "    self.learning_rate = learning_rate\n",
        "  def activation(self,z):\n",
        "    return 1 if z>=0 else 0\n",
        "  def predict(self,x_data):\n",
        "    z = np.dot(self.weights,x_data) + self.bias\n",
        "    return self.activation(z)\n",
        "  def train(self,x_data,y_true,epochs=10):\n",
        "    for epoch in range(epochs):\n",
        "      for x,y in zip(x_data,y_true):\n",
        "        y_pred = self.predict(x)\n",
        "        error = y-y_pred\n",
        "        self.weights += self.learning_rate * error*x\n",
        "        self.bias += self.learning_rate * error\n",
        "        print(f\"Epoch: {epoch+1}; Weights: {self.weights}; Bias: {self.bias}; True: {y}; Prediction: {y_pred} \")\n"
      ],
      "metadata": {
        "id": "Dw_b7E0H_TGA"
      },
      "execution_count": null,
      "outputs": []
    },
    {
      "cell_type": "markdown",
      "source": [
        "### Create a **perceptron model** with 2 input features and a learning rate of *0.05*"
      ],
      "metadata": {
        "id": "MdwXRMlNZhyL"
      }
    },
    {
      "cell_type": "code",
      "source": [
        "p = perceptron(2, learning_rate=0.05)"
      ],
      "metadata": {
        "id": "l6FXREzx-nig"
      },
      "execution_count": null,
      "outputs": []
    },
    {
      "cell_type": "markdown",
      "source": [
        "##**Training The Perceptron**\n",
        "The x_data has 6 samples with 2 features.\n",
        "The y_true is the Corresponding true labels of x_data.\n",
        "\n",
        "Training the perceptron model on the dataset for **20 epochs**"
      ],
      "metadata": {
        "id": "hgOkEOpJXz6m"
      }
    },
    {
      "cell_type": "code",
      "source": [
        "x_data = np.array([\n",
        "    [0.1, 0.9],\n",
        "    [0.3, 0.6],\n",
        "    [0.7, 0.3],\n",
        "    [0.8, 0.2],\n",
        "    [0.6, 0.4],\n",
        "    [0.2, 0.8]\n",
        "])\n",
        "y_true = np.array([1, 1, 0, 0, 0, 1])\n",
        "\n",
        "p.train(x_data,y_true,epochs=20)"
      ],
      "metadata": {
        "colab": {
          "base_uri": "https://localhost:8080/"
        },
        "id": "CpJx67CDHrIz",
        "outputId": "0fd38362-6667-485c-f5b5-df381ac7ac6a"
      },
      "execution_count": null,
      "outputs": [
        {
          "output_type": "stream",
          "name": "stdout",
          "text": [
            "Epoch: 1; Weights: [1. 1.]; Bias: 0.0; True: 1; Prediction: 1 \n",
            "Epoch: 1; Weights: [1. 1.]; Bias: 0.0; True: 1; Prediction: 1 \n",
            "Epoch: 1; Weights: [0.965 0.985]; Bias: -0.05; True: 0; Prediction: 1 \n",
            "Epoch: 1; Weights: [0.925 0.975]; Bias: -0.1; True: 0; Prediction: 1 \n",
            "Epoch: 1; Weights: [0.895 0.955]; Bias: -0.15000000000000002; True: 0; Prediction: 1 \n",
            "Epoch: 1; Weights: [0.895 0.955]; Bias: -0.15000000000000002; True: 1; Prediction: 1 \n",
            "Epoch: 2; Weights: [0.895 0.955]; Bias: -0.15000000000000002; True: 1; Prediction: 1 \n",
            "Epoch: 2; Weights: [0.895 0.955]; Bias: -0.15000000000000002; True: 1; Prediction: 1 \n",
            "Epoch: 2; Weights: [0.86 0.94]; Bias: -0.2; True: 0; Prediction: 1 \n",
            "Epoch: 2; Weights: [0.82 0.93]; Bias: -0.25; True: 0; Prediction: 1 \n",
            "Epoch: 2; Weights: [0.79 0.91]; Bias: -0.3; True: 0; Prediction: 1 \n",
            "Epoch: 2; Weights: [0.79 0.91]; Bias: -0.3; True: 1; Prediction: 1 \n",
            "Epoch: 3; Weights: [0.79 0.91]; Bias: -0.3; True: 1; Prediction: 1 \n",
            "Epoch: 3; Weights: [0.79 0.91]; Bias: -0.3; True: 1; Prediction: 1 \n",
            "Epoch: 3; Weights: [0.755 0.895]; Bias: -0.35; True: 0; Prediction: 1 \n",
            "Epoch: 3; Weights: [0.715 0.885]; Bias: -0.39999999999999997; True: 0; Prediction: 1 \n",
            "Epoch: 3; Weights: [0.685 0.865]; Bias: -0.44999999999999996; True: 0; Prediction: 1 \n",
            "Epoch: 3; Weights: [0.685 0.865]; Bias: -0.44999999999999996; True: 1; Prediction: 1 \n",
            "Epoch: 4; Weights: [0.685 0.865]; Bias: -0.44999999999999996; True: 1; Prediction: 1 \n",
            "Epoch: 4; Weights: [0.685 0.865]; Bias: -0.44999999999999996; True: 1; Prediction: 1 \n",
            "Epoch: 4; Weights: [0.65 0.85]; Bias: -0.49999999999999994; True: 0; Prediction: 1 \n",
            "Epoch: 4; Weights: [0.61 0.84]; Bias: -0.5499999999999999; True: 0; Prediction: 1 \n",
            "Epoch: 4; Weights: [0.58 0.82]; Bias: -0.6; True: 0; Prediction: 1 \n",
            "Epoch: 4; Weights: [0.58 0.82]; Bias: -0.6; True: 1; Prediction: 1 \n",
            "Epoch: 5; Weights: [0.58 0.82]; Bias: -0.6; True: 1; Prediction: 1 \n",
            "Epoch: 5; Weights: [0.58 0.82]; Bias: -0.6; True: 1; Prediction: 1 \n",
            "Epoch: 5; Weights: [0.545 0.805]; Bias: -0.65; True: 0; Prediction: 1 \n",
            "Epoch: 5; Weights: [0.545 0.805]; Bias: -0.65; True: 0; Prediction: 0 \n",
            "Epoch: 5; Weights: [0.545 0.805]; Bias: -0.65; True: 0; Prediction: 0 \n",
            "Epoch: 5; Weights: [0.545 0.805]; Bias: -0.65; True: 1; Prediction: 1 \n",
            "Epoch: 6; Weights: [0.545 0.805]; Bias: -0.65; True: 1; Prediction: 1 \n",
            "Epoch: 6; Weights: [0.56  0.835]; Bias: -0.6; True: 1; Prediction: 0 \n",
            "Epoch: 6; Weights: [0.525 0.82 ]; Bias: -0.65; True: 0; Prediction: 1 \n",
            "Epoch: 6; Weights: [0.525 0.82 ]; Bias: -0.65; True: 0; Prediction: 0 \n",
            "Epoch: 6; Weights: [0.525 0.82 ]; Bias: -0.65; True: 0; Prediction: 0 \n",
            "Epoch: 6; Weights: [0.525 0.82 ]; Bias: -0.65; True: 1; Prediction: 1 \n",
            "Epoch: 7; Weights: [0.525 0.82 ]; Bias: -0.65; True: 1; Prediction: 1 \n",
            "Epoch: 7; Weights: [0.54 0.85]; Bias: -0.6; True: 1; Prediction: 0 \n",
            "Epoch: 7; Weights: [0.505 0.835]; Bias: -0.65; True: 0; Prediction: 1 \n",
            "Epoch: 7; Weights: [0.505 0.835]; Bias: -0.65; True: 0; Prediction: 0 \n",
            "Epoch: 7; Weights: [0.505 0.835]; Bias: -0.65; True: 0; Prediction: 0 \n",
            "Epoch: 7; Weights: [0.505 0.835]; Bias: -0.65; True: 1; Prediction: 1 \n",
            "Epoch: 8; Weights: [0.505 0.835]; Bias: -0.65; True: 1; Prediction: 1 \n",
            "Epoch: 8; Weights: [0.505 0.835]; Bias: -0.65; True: 1; Prediction: 1 \n",
            "Epoch: 8; Weights: [0.505 0.835]; Bias: -0.65; True: 0; Prediction: 0 \n",
            "Epoch: 8; Weights: [0.505 0.835]; Bias: -0.65; True: 0; Prediction: 0 \n",
            "Epoch: 8; Weights: [0.505 0.835]; Bias: -0.65; True: 0; Prediction: 0 \n",
            "Epoch: 8; Weights: [0.505 0.835]; Bias: -0.65; True: 1; Prediction: 1 \n",
            "Epoch: 9; Weights: [0.505 0.835]; Bias: -0.65; True: 1; Prediction: 1 \n",
            "Epoch: 9; Weights: [0.505 0.835]; Bias: -0.65; True: 1; Prediction: 1 \n",
            "Epoch: 9; Weights: [0.505 0.835]; Bias: -0.65; True: 0; Prediction: 0 \n",
            "Epoch: 9; Weights: [0.505 0.835]; Bias: -0.65; True: 0; Prediction: 0 \n",
            "Epoch: 9; Weights: [0.505 0.835]; Bias: -0.65; True: 0; Prediction: 0 \n",
            "Epoch: 9; Weights: [0.505 0.835]; Bias: -0.65; True: 1; Prediction: 1 \n",
            "Epoch: 10; Weights: [0.505 0.835]; Bias: -0.65; True: 1; Prediction: 1 \n",
            "Epoch: 10; Weights: [0.505 0.835]; Bias: -0.65; True: 1; Prediction: 1 \n",
            "Epoch: 10; Weights: [0.505 0.835]; Bias: -0.65; True: 0; Prediction: 0 \n",
            "Epoch: 10; Weights: [0.505 0.835]; Bias: -0.65; True: 0; Prediction: 0 \n",
            "Epoch: 10; Weights: [0.505 0.835]; Bias: -0.65; True: 0; Prediction: 0 \n",
            "Epoch: 10; Weights: [0.505 0.835]; Bias: -0.65; True: 1; Prediction: 1 \n",
            "Epoch: 11; Weights: [0.505 0.835]; Bias: -0.65; True: 1; Prediction: 1 \n",
            "Epoch: 11; Weights: [0.505 0.835]; Bias: -0.65; True: 1; Prediction: 1 \n",
            "Epoch: 11; Weights: [0.505 0.835]; Bias: -0.65; True: 0; Prediction: 0 \n",
            "Epoch: 11; Weights: [0.505 0.835]; Bias: -0.65; True: 0; Prediction: 0 \n",
            "Epoch: 11; Weights: [0.505 0.835]; Bias: -0.65; True: 0; Prediction: 0 \n",
            "Epoch: 11; Weights: [0.505 0.835]; Bias: -0.65; True: 1; Prediction: 1 \n",
            "Epoch: 12; Weights: [0.505 0.835]; Bias: -0.65; True: 1; Prediction: 1 \n",
            "Epoch: 12; Weights: [0.505 0.835]; Bias: -0.65; True: 1; Prediction: 1 \n",
            "Epoch: 12; Weights: [0.505 0.835]; Bias: -0.65; True: 0; Prediction: 0 \n",
            "Epoch: 12; Weights: [0.505 0.835]; Bias: -0.65; True: 0; Prediction: 0 \n",
            "Epoch: 12; Weights: [0.505 0.835]; Bias: -0.65; True: 0; Prediction: 0 \n",
            "Epoch: 12; Weights: [0.505 0.835]; Bias: -0.65; True: 1; Prediction: 1 \n",
            "Epoch: 13; Weights: [0.505 0.835]; Bias: -0.65; True: 1; Prediction: 1 \n",
            "Epoch: 13; Weights: [0.505 0.835]; Bias: -0.65; True: 1; Prediction: 1 \n",
            "Epoch: 13; Weights: [0.505 0.835]; Bias: -0.65; True: 0; Prediction: 0 \n",
            "Epoch: 13; Weights: [0.505 0.835]; Bias: -0.65; True: 0; Prediction: 0 \n",
            "Epoch: 13; Weights: [0.505 0.835]; Bias: -0.65; True: 0; Prediction: 0 \n",
            "Epoch: 13; Weights: [0.505 0.835]; Bias: -0.65; True: 1; Prediction: 1 \n",
            "Epoch: 14; Weights: [0.505 0.835]; Bias: -0.65; True: 1; Prediction: 1 \n",
            "Epoch: 14; Weights: [0.505 0.835]; Bias: -0.65; True: 1; Prediction: 1 \n",
            "Epoch: 14; Weights: [0.505 0.835]; Bias: -0.65; True: 0; Prediction: 0 \n",
            "Epoch: 14; Weights: [0.505 0.835]; Bias: -0.65; True: 0; Prediction: 0 \n",
            "Epoch: 14; Weights: [0.505 0.835]; Bias: -0.65; True: 0; Prediction: 0 \n",
            "Epoch: 14; Weights: [0.505 0.835]; Bias: -0.65; True: 1; Prediction: 1 \n",
            "Epoch: 15; Weights: [0.505 0.835]; Bias: -0.65; True: 1; Prediction: 1 \n",
            "Epoch: 15; Weights: [0.505 0.835]; Bias: -0.65; True: 1; Prediction: 1 \n",
            "Epoch: 15; Weights: [0.505 0.835]; Bias: -0.65; True: 0; Prediction: 0 \n",
            "Epoch: 15; Weights: [0.505 0.835]; Bias: -0.65; True: 0; Prediction: 0 \n",
            "Epoch: 15; Weights: [0.505 0.835]; Bias: -0.65; True: 0; Prediction: 0 \n",
            "Epoch: 15; Weights: [0.505 0.835]; Bias: -0.65; True: 1; Prediction: 1 \n",
            "Epoch: 16; Weights: [0.505 0.835]; Bias: -0.65; True: 1; Prediction: 1 \n",
            "Epoch: 16; Weights: [0.505 0.835]; Bias: -0.65; True: 1; Prediction: 1 \n",
            "Epoch: 16; Weights: [0.505 0.835]; Bias: -0.65; True: 0; Prediction: 0 \n",
            "Epoch: 16; Weights: [0.505 0.835]; Bias: -0.65; True: 0; Prediction: 0 \n",
            "Epoch: 16; Weights: [0.505 0.835]; Bias: -0.65; True: 0; Prediction: 0 \n",
            "Epoch: 16; Weights: [0.505 0.835]; Bias: -0.65; True: 1; Prediction: 1 \n",
            "Epoch: 17; Weights: [0.505 0.835]; Bias: -0.65; True: 1; Prediction: 1 \n",
            "Epoch: 17; Weights: [0.505 0.835]; Bias: -0.65; True: 1; Prediction: 1 \n",
            "Epoch: 17; Weights: [0.505 0.835]; Bias: -0.65; True: 0; Prediction: 0 \n",
            "Epoch: 17; Weights: [0.505 0.835]; Bias: -0.65; True: 0; Prediction: 0 \n",
            "Epoch: 17; Weights: [0.505 0.835]; Bias: -0.65; True: 0; Prediction: 0 \n",
            "Epoch: 17; Weights: [0.505 0.835]; Bias: -0.65; True: 1; Prediction: 1 \n",
            "Epoch: 18; Weights: [0.505 0.835]; Bias: -0.65; True: 1; Prediction: 1 \n",
            "Epoch: 18; Weights: [0.505 0.835]; Bias: -0.65; True: 1; Prediction: 1 \n",
            "Epoch: 18; Weights: [0.505 0.835]; Bias: -0.65; True: 0; Prediction: 0 \n",
            "Epoch: 18; Weights: [0.505 0.835]; Bias: -0.65; True: 0; Prediction: 0 \n",
            "Epoch: 18; Weights: [0.505 0.835]; Bias: -0.65; True: 0; Prediction: 0 \n",
            "Epoch: 18; Weights: [0.505 0.835]; Bias: -0.65; True: 1; Prediction: 1 \n",
            "Epoch: 19; Weights: [0.505 0.835]; Bias: -0.65; True: 1; Prediction: 1 \n",
            "Epoch: 19; Weights: [0.505 0.835]; Bias: -0.65; True: 1; Prediction: 1 \n",
            "Epoch: 19; Weights: [0.505 0.835]; Bias: -0.65; True: 0; Prediction: 0 \n",
            "Epoch: 19; Weights: [0.505 0.835]; Bias: -0.65; True: 0; Prediction: 0 \n",
            "Epoch: 19; Weights: [0.505 0.835]; Bias: -0.65; True: 0; Prediction: 0 \n",
            "Epoch: 19; Weights: [0.505 0.835]; Bias: -0.65; True: 1; Prediction: 1 \n",
            "Epoch: 20; Weights: [0.505 0.835]; Bias: -0.65; True: 1; Prediction: 1 \n",
            "Epoch: 20; Weights: [0.505 0.835]; Bias: -0.65; True: 1; Prediction: 1 \n",
            "Epoch: 20; Weights: [0.505 0.835]; Bias: -0.65; True: 0; Prediction: 0 \n",
            "Epoch: 20; Weights: [0.505 0.835]; Bias: -0.65; True: 0; Prediction: 0 \n",
            "Epoch: 20; Weights: [0.505 0.835]; Bias: -0.65; True: 0; Prediction: 0 \n",
            "Epoch: 20; Weights: [0.505 0.835]; Bias: -0.65; True: 1; Prediction: 1 \n"
          ]
        }
      ]
    },
    {
      "cell_type": "markdown",
      "source": [
        "##As we can see above the model is now trained and predicting correct. Now its time to Predict a random value given by us."
      ],
      "metadata": {
        "id": "k15tSq3ka5Ga"
      }
    },
    {
      "cell_type": "code",
      "source": [
        "p.predict(np.array([0.4,0.6]))"
      ],
      "metadata": {
        "colab": {
          "base_uri": "https://localhost:8080/"
        },
        "id": "w1PoSEbKbK7A",
        "outputId": "65b95462-2404-4f96-ae2a-e76d3ff7b48b"
      },
      "execution_count": null,
      "outputs": [
        {
          "output_type": "execute_result",
          "data": {
            "text/plain": [
              "1"
            ]
          },
          "metadata": {},
          "execution_count": 110
        }
      ]
    },
    {
      "cell_type": "markdown",
      "source": [
        "###we can see that the Perceptron is working as we wanted it to be. Now its time to plot it so we can visualize it."
      ],
      "metadata": {
        "id": "uJcJ8l6YbRoc"
      }
    },
    {
      "cell_type": "code",
      "source": [
        "def plot_decision_boundary(model, X, y):\n",
        "    plt.scatter(X[:,0], X[:,1], c=y, cmap='bwr', edgecolors='k')\n",
        "    x_values = np.array([min(X[:,0]) - 0.1, max(X[:,0]) + 0.1])\n",
        "    y_values = -(model.weights[0] * x_values + model.bias) / model.weights[1]\n",
        "    plt.plot(x_values, y_values, 'k-')\n",
        "    plt.xlabel(\"Feature 1\")\n",
        "    plt.ylabel(\"Feature 2\")\n",
        "    plt.title(\"Decision Boundary\")\n",
        "    plt.show()"
      ],
      "metadata": {
        "id": "jXGBBOKrboa0"
      },
      "execution_count": null,
      "outputs": []
    },
    {
      "cell_type": "code",
      "source": [
        "plot_decision_boundary(p,x_data,y_true)"
      ],
      "metadata": {
        "colab": {
          "base_uri": "https://localhost:8080/",
          "height": 472
        },
        "id": "zx3xx03ccPMf",
        "outputId": "e6bd35d6-2251-482c-bbfa-f33aa09cf89e"
      },
      "execution_count": null,
      "outputs": [
        {
          "output_type": "display_data",
          "data": {
            "text/plain": [
              "<Figure size 640x480 with 1 Axes>"
            ],
            "image/png": "[encoded data removed]"
          },
          "metadata": {}
        }
      ]
    },
    {
      "cell_type": "markdown",
      "source": [
        "##Accuracy of the model!"
      ],
      "metadata": {
        "id": "KxG0XgTidtTS"
      }
    },
    {
      "cell_type": "code",
      "source": [
        "def accuracy(model, X, y_true):\n",
        "    y_pred = np.array([model.predict(x) for x in X])\n",
        "    correct = np.sum(y_pred == y_true)\n",
        "    return correct / len(y_true)\n",
        "acc = accuracy(p, x_data, y_true)\n",
        "print(f\"Model Accuracy: {acc*100 }%\")\n"
      ],
      "metadata": {
        "colab": {
          "base_uri": "https://localhost:8080/"
        },
        "id": "4tggTFGxcgFb",
        "outputId": "d3276615-5388-4a65-f40c-7d91bde9abfc"
      },
      "execution_count": null,
      "outputs": [
        {
          "output_type": "stream",
          "name": "stdout",
          "text": [
            "Model Accuracy: 100.0\n"
          ]
        }
      ]
    },
    {
      "cell_type": "markdown",
      "source": [
        "###It has 100% Accuracy because our data set was very small and simple and with no outliers."
      ],
      "metadata": {
        "id": "KnSEj9BFdyEm"
      }
    }
  ]
}